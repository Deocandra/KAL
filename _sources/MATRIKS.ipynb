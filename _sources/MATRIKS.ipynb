{
  "nbformat": 4,
  "nbformat_minor": 0,
  "metadata": {
    "colab": {
      "provenance": []
    },
    "kernelspec": {
      "name": "python3",
      "display_name": "Python 3"
    },
    "language_info": {
      "name": "python"
    }
  },
  "cells": [
    {
      "cell_type": "markdown",
      "source": [
        "## Matrik\n",
        "### Defiisi matrik\n",
        "Matriks adalah suatu susunan bilangan real atau bilangan kompleks (atau elemen-elemen) yang disusun dalam baris dan kolom sehingga membentuk jajaran persegi panjang.\n",
        "### operasi aritmatika matrik\n",
        "### penjumlahan\n",
        "Penjumlahan matriks adalah operasi yang dilakukan dengan menjumlahkan elemen-elemen yang bersesuaian dari dua matriks yang memiliki ukuran yang sama.\n",
        "\n",
        "Syarat Penjumlahan Matriks\n",
        "\n",
        "1. Ukuran sama – Dua matriks yang akan dijumlahkan harus memiliki jumlah baris dan kolom yang sama.\n",
        "\n",
        "2. Elemen ditambahkan satu per satu – Setiap elemen di posisi yang sama pada kedua matriks dijumlahkan.\n",
        "\n",
        "#### konsep penjumlahan matrik\n",
        "\n",
        "Rumus Penjumlahan Matriks\n",
        "Misalkan ada dua matriks:\n",
        "\n",
        "A = $\\begin{bmatrix}\n",
        "    a_{11} & a_{12}  \\\\\n",
        "    a_{21} & a_{22}  \n",
        "   \\end{bmatrix}$\n",
        "\n",
        "B = $\\begin{bmatrix}\n",
        "    b_{11} & b_{12}  \\\\\n",
        "    b_{21} & b_{22}  \n",
        "   \\end{bmatrix}$\n",
        "\n",
        "Maka hasil penjumlahan ( C = A + B ) adalah:\n",
        "\n",
        "C=  $\\begin{bmatrix}\n",
        "    a_{11} + b_{11} & a_{12} + b_{12} \\\\\n",
        "    a_{21} +  b_{21} & a_{22} + b_{22}\n",
        "   \\end{bmatrix}$\n",
        "\n",
        "contoh perhitungan jka:\n",
        "\n",
        "A = $\\begin{bmatrix}\n",
        "    2 & 3  \\\\\n",
        "    1 & 5\n",
        "   \\end{bmatrix}$\n",
        "\n",
        "B = $\\begin{bmatrix}\n",
        "    2 & 2  \\\\\n",
        "    3 & 1\n",
        "   \\end{bmatrix}$\n",
        "\n",
        "A + B = $\\begin{bmatrix}\n",
        "    2 + 2 & 3 + 2 \\\\\n",
        "    1 +  3 & 5 + 1\n",
        "   \\end{bmatrix}$\n",
        "\n",
        "$\\begin{bmatrix}\n",
        "    4 & 5  \\\\\n",
        "    4 & 6\n",
        "   \\end{bmatrix}$"
      ],
      "metadata": {
        "id": "yPOMSw98yyQF"
      }
    },
    {
      "cell_type": "code",
      "execution_count": 3,
      "metadata": {
        "id": "HUlWUbg4yME2",
        "colab": {
          "base_uri": "https://localhost:8080/"
        },
        "outputId": "549980d2-4a4c-43d8-dbc0-c1817509c87b"
      },
      "outputs": [
        {
          "output_type": "stream",
          "name": "stdout",
          "text": [
            "Matrix([[4, 5], [4, 6]])\n"
          ]
        }
      ],
      "source": [
        "from sympy.interactive.printing import init_printing\n",
        "init_printing(use_unicode=False)\n",
        "from sympy.matrices import Matrix, eye, ones, diag, GramSchmidt\n",
        "from sympy.matrices.dense import zeros\n",
        "A = Matrix([[2,3],[1,5]])\n",
        "B = Matrix([[2,2],[3,1]])\n",
        "c = A + B\n",
        "print(c)"
      ]
    },
    {
      "cell_type": "markdown",
      "source": [
        "## Perkalian Matrik\n",
        "\n",
        "Perkalian matriks adalah operasi yang dilakukan dengan mengalikan elemen-elemen dari dua matriks berdasarkan aturan tertentu. Tidak seperti penjumlahan, perkalian matriks memiliki aturan khusus yang harus diikuti.\n",
        "\n",
        "Syarat Perkalian Matriks\n",
        "\n",
        "1. Jumlah kolom matriks pertama harus sama dengan jumlah baris matriks kedua\n",
        "\n",
        " - Jika matriks A berukuran ($m$ x $n$)\n",
        " dan matriks B berukuran ($n$ x $p$)\n",
        ", maka hasil perkalian C akan berukuran ($m$ x $p$)\n",
        ".\n",
        "\n",
        "2. Menggunakan operasi dot product (perkalian dan penjumlahan elemen)\n",
        "\n",
        " - Elemen dalam hasil matriks diperoleh dengan menjumlahkan hasil kali elemen-elemen dari baris matriks pertama dengan elemen-elemen dari kolom matriks kedua.\n",
        "\n",
        "#### konsep perkalian matrik\n",
        "\n",
        "A = $\\begin{bmatrix}\n",
        "    a_{11} & a_{12} & a_{13}  \\\\\n",
        "    a_{21} & a_{22} & a_{23}\n",
        "   \\end{bmatrix}$\n",
        "\n",
        "B = $\\begin{bmatrix}\n",
        "    b_{11} & b_{12}   \\\\\n",
        "    b_{21} & b_{22} \\\\\n",
        "    b_{31} & b_{32}\n",
        "   \\end{bmatrix}$\n",
        "\n",
        "Maka hasil perkalian C = A x B akan berukuran 2 x 2\n",
        "\n",
        "C = $\\begin{bmatrix}\n",
        "    (a_{11} * b_{11} + a_{12} * b_{21} + a_{13} * b_{31})  & (a_{11} * b_{12} + a_{12} * b_{22} + a_{13} * b_{32}) \\\\\n",
        "   (a_{21} * b_{11} + a_{22} * b_{21} + a_{23} * b_{31})  & (a_{21} * b_{12} + a_{22} * b_{22} + a_{23} * b_{32})\n",
        "   \\end{bmatrix}$\n",
        "\n",
        "Contoh Perhitungan Misalkan:\n",
        "\n",
        "A = $\\begin{bmatrix}\n",
        "    2 & 8 & 1  \\\\\n",
        "    4 & 6 & 3\n",
        "   \\end{bmatrix}$\n",
        "\n",
        "B = $\\begin{bmatrix}\n",
        "    6 & 3  \\\\\n",
        "    2 & 1 \\\\\n",
        "    4 & 1\n",
        "   \\end{bmatrix}$\n",
        "\n",
        "Maka hasilnya:\n",
        "\n",
        "C = $\\begin{bmatrix}\n",
        "    (2 * 6 + 8 * 2 + 1 * 4)  & (2 * 3 + 8 * 1 + 1 * 1) \\\\\n",
        "   (4 * 6 + 6 * 2 + 3  * 4 )  & (4 * 3 + 6 * 1 + 3 * 1)\n",
        "   \\end{bmatrix}$\n",
        "\n",
        "C = $\\begin{bmatrix}\n",
        "    (12 + 16 +  4)  & (6 + 8  + 1 ) \\\\\n",
        "   (24 + 12 + 12 )  & (12 + 6 + 3)\n",
        "   \\end{bmatrix}$\n",
        "\n",
        "A = $\\begin{bmatrix}\n",
        "    32 & 18   \\\\\n",
        "    48 &  21\n",
        "   \\end{bmatrix}$\n",
        "\n",
        "Kesimpulan\n",
        "\n",
        "- Perkalian matriks tidak bisa dilakukan sembarangan, harus memenuhi syarat ukuran.\n",
        "\n",
        "- Hasil perkalian matriks bisa memiliki ukuran yang berbeda dari matriks aslinya.\n",
        "\n",
        "- Perkalian matriks tidak komutatif ((A x B != B x A))\n"
      ],
      "metadata": {
        "id": "JNxWDvXdzT5H"
      }
    },
    {
      "cell_type": "code",
      "source": [
        "from sympy.interactive.printing import init_printing\n",
        "init_printing(use_unicode=False)\n",
        "from sympy.matrices import Matrix\n",
        "\n",
        "\n",
        "A = Matrix([[2,8,1], [4,6,3]])\n",
        "B = Matrix([[6,3], [2,1], [4,1]])\n",
        "\n",
        "C = A * B\n",
        "\n",
        "print(\"Hasil perkalian matriks A dan B:\")\n",
        "print(C)"
      ],
      "metadata": {
        "colab": {
          "base_uri": "https://localhost:8080/"
        },
        "id": "3NcsObjgOO-V",
        "outputId": "384618ef-03c7-44f9-9a4d-0674ecd799ed"
      },
      "execution_count": 4,
      "outputs": [
        {
          "output_type": "stream",
          "name": "stdout",
          "text": [
            "Hasil perkalian matriks A dan B:\n",
            "Matrix([[32, 15], [48, 21]])\n"
          ]
        }
      ]
    },
    {
      "cell_type": "markdown",
      "source": [
        "## Perkalian skalar dengan matriks\n",
        "Perkalian skalar dengan matriks adalah operasi di mana setiap elemen dalam matriks dikalikan dengan suatu bilangan skalar\n",
        "\n",
        "Rumus Perkalian Skalar dengan Matriks\n",
        "Jika terdapat matriks:\n",
        "\n",
        "A = $\\begin{bmatrix}\n",
        "    a_{11} & a_{12}  \\\\\n",
        "    a_{21} & a_{22}  \n",
        "   \\end{bmatrix}$\n",
        "\n",
        "dan skalar (K), maka hasil perkalian skalar (K x A) adalah\n",
        "\n",
        "K x A = $\\begin{bmatrix}\n",
        "   k * a_{11} & k * a_{12}  \\\\\n",
        "   k * a_{21} & k * a_{22}  \n",
        "   \\end{bmatrix}$\n",
        "\n",
        "Contoh Perhitungan Misalkan:\n",
        "\n",
        "A = $\\begin{bmatrix}\n",
        "    2 & 4  \\\\\n",
        "    5 & 6  \n",
        "   \\end{bmatrix}$\n",
        "\n",
        "dan skalar ($k$ = 3), maka:\n",
        "\n",
        "3 x A = $\\begin{bmatrix}\n",
        "   3 * 2 & 3 * 4  \\\\\n",
        "   3 * 5 & 3 * 6  \n",
        "   \\end{bmatrix}$\n",
        "\n",
        "$\\begin{bmatrix}\n",
        "    6 & 12  \\\\\n",
        "    15 & 18  \n",
        "   \\end{bmatrix}$\n",
        "\n",
        "Kesimpulan\n",
        "\n",
        "- Perkalian skalar hanya mengalikan setiap elemen dalam matriks dengan suatu bilangan.\n",
        "\n",
        "- Ukuran matriks tetap sama setelah perkalian.\n",
        "\n",
        "- Operasi ini bersifat distributif dan mudah dihitung."
      ],
      "metadata": {
        "id": "_KvELgvDQPJY"
      }
    },
    {
      "cell_type": "code",
      "source": [
        "from sympy.interactive.printing import init_printing\n",
        "init_printing(use_unicode=False)\n",
        "from sympy.matrices import Matrix\n",
        "\n",
        "A = Matrix([[2,4], [5,6]])\n",
        "\n",
        "k = 3\n",
        "\n",
        "C = k * A\n",
        "\n",
        "print(\"Hasil perkalian skalar dengan matriks A:\")\n",
        "print(C)"
      ],
      "metadata": {
        "colab": {
          "base_uri": "https://localhost:8080/"
        },
        "id": "dvSFa0ZRSdzO",
        "outputId": "31872a08-0e0d-4eb4-8e89-592a08fad26d"
      },
      "execution_count": 6,
      "outputs": [
        {
          "output_type": "stream",
          "name": "stdout",
          "text": [
            "Hasil perkalian skalar dengan matriks A:\n",
            "Matrix([[6, 12], [15, 18]])\n"
          ]
        }
      ]
    }
  ]
}