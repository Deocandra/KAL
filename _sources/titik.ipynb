{
  "nbformat": 4,
  "nbformat_minor": 0,
  "metadata": {
    "colab": {
      "provenance": []
    },
    "kernelspec": {
      "name": "python3",
      "display_name": "Python 3"
    },
    "language_info": {
      "name": "python"
    }
  },
  "cells": [
    {
      "cell_type": "markdown",
      "source": [
        "# Perkalian Titik (Dot Product) dan Vektor Satuan\n",
        "\n",
        "## 1. Perkalian Titik (Dot Product)\n",
        "\n",
        "### a. Materi Singkat\n",
        "Perkalian titik adalah operasi antara dua vektor yang menghasilkan **skalar** (bukan vektor).\n",
        "\n",
        "Untuk dua vektor:\n",
        "\n",
        "$\n",
        "\\vec{A} = (a_1, a_2, ..., a_n), \\quad \\vec{B} = (b_1, b_2, ..., b_n)\n",
        "$\n",
        "\n",
        "Maka:\n",
        "\n",
        "$\n",
        "\\vec{A} \\cdot \\vec{B} = a_1 \\cdot b_1 + a_2 \\cdot b_2 + \\ldots + a_n \\cdot b_n\n",
        "$\n",
        "\n",
        "Atau secara geometris:\n",
        "\n",
        "$\n",
        "\\vec{A} \\cdot \\vec{B} = |\\vec{A}| \\cdot |\\vec{B}| \\cdot \\cos(\\theta)\n",
        "$\n",
        "\n",
        "di mana $ \\theta $ adalah sudut antara kedua vektor.\n",
        "\n",
        "---\n",
        "\n",
        "Kegunaan:\n",
        "\n",
        "- Menentukan sudut antar vektor.\n",
        "\n",
        "- Mengetahui apakah dua vektor saling tegak lurus (hasil dot product = 0 berarti tegak lurus).\n",
        "\n",
        "Misal:\n",
        "\n",
        "\n",
        "$\\vec{A}$ = [2, -3]\n",
        "    \n",
        "$\\vec{B}$ = [5, 6]\n",
        "\n",
        "Maka:\n",
        "\n",
        "  $\\vec{A}$ · $\\vec{B}$ = (2 × 5) + (-3 × 6) = 10 - 18 = -8\n",
        "\n",
        "### b. Program Python\n"
      ],
      "metadata": {
        "id": "8wfjfz0c5s2K"
      }
    },
    {
      "cell_type": "code",
      "execution_count": 1,
      "metadata": {
        "id": "a92YLv7DUKPw",
        "colab": {
          "base_uri": "https://localhost:8080/",
          "height": 0
        },
        "outputId": "1c47cd12-f0fa-4e14-fcd4-bd559276cc1b"
      },
      "outputs": [
        {
          "output_type": "stream",
          "name": "stdout",
          "text": [
            "Dot product dari [2, -3] dan [5, 6] adalah: -8\n"
          ]
        }
      ],
      "source": [
        "def dot_product(v1, v2):\n",
        "    if len(v1) != len(v2):\n",
        "        raise ValueError(\"Vektor harus memiliki dimensi yang sama.\")\n",
        "    return sum(a * b for a, b in zip(v1, v2))\n",
        "\n",
        "# Contoh vektor\n",
        "v1 = [2, -3]\n",
        "v2 = [5, 6]\n",
        "\n",
        "hasil = dot_product(v1, v2)\n",
        "print(f\"Dot product dari {v1} dan {v2} adalah: {hasil}\")\n"
      ]
    },
    {
      "cell_type": "markdown",
      "source": [
        "## 2. Vektor Satuan\n",
        "\n",
        "### a. Materi Singkat\n",
        "\n",
        "**Vektor satuan** adalah vektor yang memiliki panjang (magnitudo) **1**, tetapi tetap menunjuk ke arah tertentu.\n",
        "\n",
        "\n",
        "Untuk mengubah sebuah vektor $ \\vec{V} $ menjadi vektor satuan, gunakan rumus:\n",
        "\n",
        "$\n",
        "\\hat{V} = \\frac{\\vec{V}}{|\\vec{V}|}\n",
        "$\n",
        "\n",
        "di mana:\n",
        "\n",
        "- $ \\vec{V} = (v_1, v_2, ..., v_n) $\n",
        "- $|\\vec{V}| $ adalah panjang (magnitudo) dari vektor $ \\vec{V} $, dihitung dengan:\n",
        "\n",
        "$\n",
        "|\\vec{V}| = \\sqrt{v_1^2 + v_2^2 + \\ldots + v_n^2}\n",
        "$\n",
        "\n",
        "\n",
        "- Vektor satuan memiliki **arah yang sama** dengan vektor asal, tetapi panjangnya selalu **1**.\n",
        "- Jika panjang (magnitudo) vektor adalah 0, maka **tidak dapat dibuat vektor satuan**, karena akan terjadi pembagian dengan nol.\n",
        "\n",
        "---\n",
        "\n",
        "## Contoh\n",
        "\n",
        "Jika $ \\vec{V} = (2, 3) $, maka:\n",
        "\n",
        "$\n",
        "|\\vec{V}| = \\sqrt{2^2 + 3^2} = \\sqrt{13}\n",
        "$\n",
        "\n",
        "$\n",
        "\\hat{V} = \\left( \\frac{2}{\\sqrt{13}}, \\frac{3}{\\sqrt{13}} \\right)\n",
        "$\n",
        "\n",
        "Untuk mengubah vektor V = [2, 3] menjadi vektor satuan:\n",
        "\n",
        " $|\\vec{V}|$ = √(2² + 3²) = √13 ≈ 3.60555\n",
        "\n",
        "Vektor satuannya:\n",
        "\n",
        " V̂ = [2 / √13, 3 / √13] ≈ [0.5547, 0.8321]\n",
        "\n",
        "### b. Program Python"
      ],
      "metadata": {
        "id": "lFPN9hHw7g_Z"
      }
    },
    {
      "cell_type": "code",
      "source": [
        "import math\n",
        "\n",
        "def unit_vector(v):\n",
        "    magnitude = math.sqrt(sum(a**2 for a in v))\n",
        "    if magnitude == 0:\n",
        "        raise ValueError(\"Vektor nol tidak bisa dibuat vektor satuan.\")\n",
        "    return [round(a / magnitude, 4) for a in v]  # dibulatkan 4 desimal\n",
        "\n",
        "# Contoh vektor\n",
        "v = [2, 3]\n",
        "unit_v = unit_vector(v)\n",
        "print(f\"Vektor satuan dari {v} adalah: {unit_v}\")\n"
      ],
      "metadata": {
        "colab": {
          "base_uri": "https://localhost:8080/",
          "height": 0
        },
        "id": "UM95N65K-gkF",
        "outputId": "db85eba2-cc28-411a-afec-16a19f7066f6"
      },
      "execution_count": 2,
      "outputs": [
        {
          "output_type": "stream",
          "name": "stdout",
          "text": [
            "Vektor satuan dari [2, 3] adalah: [0.5547, 0.8321]\n"
          ]
        }
      ]
    }
  ]
}